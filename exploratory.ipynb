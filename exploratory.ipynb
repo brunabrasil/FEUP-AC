{
 "cells": [
  {
   "cell_type": "code",
   "execution_count": null,
   "metadata": {},
   "outputs": [],
   "source": [
    "import pandas as pd\n",
    "import matplotlib.pyplot as plt\n",
    "import seaborn as sns\n",
    "import missingno as msno\n",
    "import numpy as np\n",
    "\n",
    "# Load data\n",
    "players = pd.read_csv('./Dataset/players.csv')\n",
    "teams = pd.read_csv('./Dataset/teams.csv')\n",
    "players_teams = pd.read_csv('./Dataset/players_teams.csv')\n",
    "awards_players = pd.read_csv('./Dataset/awards_players.csv')\n",
    "coaches = pd.read_csv('./Dataset/coaches.csv')\n",
    "series_post = pd.read_csv('./Dataset/series_post.csv')\n",
    "teams_post = pd.read_csv('./Dataset/teams_post.csv')\n"
   ]
  },
  {
   "cell_type": "code",
   "execution_count": null,
   "metadata": {},
   "outputs": [],
   "source": [
    "print(\"PLAYERS:\")\n",
    "players.info()\n",
    "players.describe()"
   ]
  },
  {
   "cell_type": "code",
   "execution_count": null,
   "metadata": {},
   "outputs": [],
   "source": [
    "\n",
    "print(\"TEAMS:\")\n",
    "teams.info()\n",
    "teams.describe()"
   ]
  },
  {
   "cell_type": "code",
   "execution_count": null,
   "metadata": {},
   "outputs": [],
   "source": [
    "print(\"PLAYERS_TEAMS:\")\n",
    "players_teams.info()\n",
    "players_teams.describe()"
   ]
  },
  {
   "cell_type": "code",
   "execution_count": null,
   "metadata": {},
   "outputs": [],
   "source": [
    "print(\"AWARDS_PLAYERS:\")\n",
    "number_of_team_ids = awards_players['award'].nunique()\n",
    "print(number_of_team_ids)\n",
    "awards_players.info()\n",
    "awards_players.describe()"
   ]
  },
  {
   "cell_type": "code",
   "execution_count": null,
   "metadata": {},
   "outputs": [],
   "source": [
    "print(\"COACHES:\")\n",
    "coaches.info()\n",
    "coaches.describe()"
   ]
  },
  {
   "cell_type": "code",
   "execution_count": null,
   "metadata": {},
   "outputs": [],
   "source": [
    "print(\"SERIES_POST:\")\n",
    "series_post.info()\n",
    "series_post.describe()"
   ]
  },
  {
   "cell_type": "code",
   "execution_count": null,
   "metadata": {},
   "outputs": [],
   "source": [
    "print(\"TEAMS_POST:\")\n",
    "teams_post.info()\n",
    "teams_post.describe()"
   ]
  },
  {
   "cell_type": "markdown",
   "metadata": {},
   "source": [
    "## Outliers\n"
   ]
  },
  {
   "cell_type": "code",
   "execution_count": null,
   "metadata": {},
   "outputs": [],
   "source": [
    "\n",
    "fig, axs = plt.subplots(ncols=2, figsize=(10,5))\n",
    "for i, attribute in enumerate(players.columns[4:6]):\n",
    "    col = i % 5\n",
    "    sns.boxplot(x=players[attribute], ax=axs[col])\n",
    "\n",
    "fig.suptitle(\"Boxplots for Player Attributes\", fontsize=12)\n",
    "\n",
    "fig, axs = plt.subplots(nrows=6, ncols=6, figsize=(23, 30))\n",
    "for i, attribute in enumerate(players_teams.columns[8:45]):\n",
    "    row = i // 6\n",
    "    col = i % 6\n",
    "    sns.boxplot(x=players_teams[attribute], ax=axs[row][col])\n",
    "\n"
   ]
  },
  {
   "cell_type": "markdown",
   "metadata": {},
   "source": [
    "---"
   ]
  },
  {
   "cell_type": "markdown",
   "metadata": {},
   "source": [
    "auxiliary functions:"
   ]
  },
  {
   "cell_type": "code",
   "execution_count": null,
   "metadata": {},
   "outputs": [],
   "source": [
    "def plot_two_histograms(df,first_attr,sec_attr):\n",
    "\n",
    "    if sec_attr is None:\n",
    "        n_bins1 = int(np.ceil(1 + np.log2(len(df[first_attr]))))\n",
    "        sns.histplot(data=df, x=first_attr, bins=n_bins1)\n",
    "        return\n",
    "\n",
    "    fig, (ax1, ax2) = plt.subplots(ncols=2, figsize=(10, 5))\n",
    "\n",
    "    #Sturges' rule\n",
    "    n_bins1 = int(np.ceil(1 + np.log2(len(df[first_attr]))))\n",
    "    n_bins2 = int(np.ceil(1 + np.log2(len(df[sec_attr]))))\n",
    "\n",
    "    sns.histplot(data=df, x=first_attr, ax=ax1, bins=n_bins1)\n",
    "    sns.histplot(data=df, x=sec_attr, ax=ax2, bins=n_bins2)\n",
    "    plt.show()\n",
    "\n",
    "def plot_three_barplots(data, first_attr, sec_attr, thr_attr):\n",
    "    fig, ax = plt.subplots(ncols=3, figsize=(12,8))\n",
    "    ax[0].bar(data[first_attr].value_counts().index, data[first_attr].value_counts().values)\n",
    "    ax[0].set_title(first_attr)\n",
    "    ax[1].bar(data[sec_attr].value_counts().index, data[sec_attr].value_counts().values)\n",
    "    ax[1].set_title(sec_attr)\n",
    "    ax[2].bar(data[thr_attr].value_counts().index, data[thr_attr].value_counts().values)\n",
    "    ax[2].set_title(thr_attr)\n",
    "    plt.show()"
   ]
  },
  {
   "cell_type": "markdown",
   "metadata": {},
   "source": [
    "## Missing Values"
   ]
  },
  {
   "cell_type": "markdown",
   "metadata": {},
   "source": [
    "#### Players\n",
    "\n",
    "The players who the height is 0 also have the other features set to 0 or null.\n",
    "The column \"lastseason\" only contains zero values."
   ]
  },
  {
   "cell_type": "code",
   "execution_count": null,
   "metadata": {},
   "outputs": [],
   "source": [
    "\n",
    "null_heights = players[players['height'] ==  0]\n",
    "print(null_heights)\n",
    "\n",
    "zero_percentages = (players == 0).mean() * 100\n",
    "# Plot the percentages of zeros\n",
    "plt.figure(figsize=(10, 6))\n",
    "zero_percentages.plot(kind='bar', color='skyblue')\n",
    "plt.title('Percentage of Zeros in Players')\n",
    "plt.ylabel('Percentage of Zeros')\n",
    "plt.show()\n"
   ]
  },
  {
   "cell_type": "code",
   "execution_count": null,
   "metadata": {},
   "outputs": [],
   "source": [
    "msno.bar(players)\n",
    "plt.title('Missing Values in Players', fontsize=20)\n",
    "plt.show()"
   ]
  },
  {
   "cell_type": "code",
   "execution_count": null,
   "metadata": {},
   "outputs": [],
   "source": [
    "\n",
    "\n",
    "# Sort the DataFrame by player and year\n",
    "players_teams = players_teams.sort_values(by=['playerID', 'year', 'tmID'])\n",
    "\n",
    "# Initialize variables to keep track of the current team and player\n",
    "current_player = \"\"\n",
    "current_team = \"\"\n",
    "start_year = 0\n",
    "team_durations = []\n",
    "\n",
    "# Iterate through the DataFrame to calculate the years on each team\n",
    "for index, row in players_teams.iterrows():\n",
    "    player = row['playerID']\n",
    "    team = row['tmID']\n",
    "    year = row['year']\n",
    "\n",
    "    if player != current_player:\n",
    "        # New player, reset variables\n",
    "        current_player = player\n",
    "        current_team = team\n",
    "        start_year = year\n",
    "    elif team != current_team:\n",
    "        # Player changed teams, calculate duration and update current team\n",
    "        duration = year - start_year\n",
    "        team_durations.append(duration)\n",
    "        current_team = team\n",
    "        start_year = year\n",
    "\n",
    "# Create a histogram to visualize the distribution of years on one team\n",
    "plt.figure(figsize=(12, 6))\n",
    "plt.hist(team_durations, bins=range(min(team_durations), max(team_durations) + 1), edgecolor='k')\n",
    "plt.xlabel('Years on One Team')\n",
    "plt.ylabel('Number of Players')\n",
    "plt.title('Years players spent on a team')\n",
    "plt.xticks(range(min(team_durations), max(team_durations) + 1))\n",
    "plt.show()\n"
   ]
  },
  {
   "cell_type": "markdown",
   "metadata": {},
   "source": [
    "#### Teams"
   ]
  },
  {
   "cell_type": "code",
   "execution_count": null,
   "metadata": {},
   "outputs": [],
   "source": [
    "\n",
    "msno.bar(teams)\n",
    "plt.title('Missing Values in Teams', fontsize=20)\n",
    "plt.show()\n",
    "\n",
    "zero_percentages = ((teams == 0).mean() * 100).sort_values()\n",
    "# Plot the percentages of zeros\n",
    "plt.figure(figsize=(10, 6))\n",
    "zero_percentages.plot(kind='bar', color='skyblue')\n",
    "plt.title('Percentage of Zeros in Teams')\n",
    "plt.ylabel('Percentage of Zeros')\n",
    "plt.show()\n"
   ]
  },
  {
   "cell_type": "markdown",
   "metadata": {},
   "source": [
    "### Other tables\n"
   ]
  },
  {
   "cell_type": "code",
   "execution_count": null,
   "metadata": {},
   "outputs": [],
   "source": [
    "# Check for missing values\n",
    "print(\"---Missing values---\")\n",
    "\n",
    "print(\"AWARDS_PLAYERS:\")\n",
    "print(awards_players.isnull().sum())\n",
    "\n",
    "print(\"COACHES:\")\n",
    "print(coaches.isnull().sum())"
   ]
  },
  {
   "cell_type": "code",
   "execution_count": null,
   "metadata": {},
   "outputs": [],
   "source": [
    "print(\"PLAYERS_TEAMS:\")\n",
    "print(players_teams.isnull().sum())"
   ]
  },
  {
   "cell_type": "code",
   "execution_count": null,
   "metadata": {},
   "outputs": [],
   "source": [
    "print(\"SERIES_POST:\")\n",
    "print(series_post.isnull().sum())"
   ]
  },
  {
   "cell_type": "markdown",
   "metadata": {},
   "source": [
    "### Distribution of Numeric Variables"
   ]
  },
  {
   "cell_type": "markdown",
   "metadata": {},
   "source": [
    "#### Players"
   ]
  },
  {
   "cell_type": "code",
   "execution_count": null,
   "metadata": {},
   "outputs": [],
   "source": [
    "# Function to plot 2 consecutive count plots\n",
    "def two_countplots(df,first_attr,sec_attr):\n",
    "    fig, axes = plt.subplots(1, 2, figsize=(12, 8))\n",
    "\n",
    "    sns.countplot(x=first_attr, data=df, ax=axes[0])\n",
    "    sns.countplot(x=sec_attr, data=df, ax=axes[1])\n",
    "\n",
    "    for ax in axes:\n",
    "        for p in ax.patches:\n",
    "            height = p.get_height()\n",
    "            ax.text(p.get_x() + p.get_width() / 2,\n",
    "                    height*1.01,\n",
    "                    f\"{height / len(df) * 100:.1f}%\",\n",
    "                    ha=\"center\")\n",
    "\n",
    "    plt.show()\n",
    "\n",
    "two_countplots(players, \"firstseason\", \"lastseason\")\n",
    "plot_two_histograms(players,\"height\",\"weight\")\n"
   ]
  },
  {
   "cell_type": "markdown",
   "metadata": {},
   "source": [
    "### Coaches"
   ]
  },
  {
   "cell_type": "code",
   "execution_count": null,
   "metadata": {},
   "outputs": [],
   "source": [
    "plot_two_histograms(coaches, \"won\", \"lost\")\n",
    "plot_two_histograms(coaches,\"post_wins\",\"post_losses\")"
   ]
  },
  {
   "cell_type": "markdown",
   "metadata": {},
   "source": [
    "### Distribution of Categorical Variables"
   ]
  },
  {
   "cell_type": "markdown",
   "metadata": {},
   "source": [
    "players"
   ]
  },
  {
   "cell_type": "code",
   "execution_count": null,
   "metadata": {},
   "outputs": [],
   "source": [
    "sns.countplot(x=\"pos\", data=players)\n",
    "plt.title('Distribution of pos')\n",
    "plt.show()\n",
    "\n",
    "unique_values_count = players['college'].nunique()\n",
    "print(f'Number of unique values in college column: {unique_values_count}')"
   ]
  },
  {
   "cell_type": "markdown",
   "metadata": {},
   "source": [
    "Teams"
   ]
  },
  {
   "cell_type": "code",
   "execution_count": null,
   "metadata": {},
   "outputs": [],
   "source": [
    "sns.countplot(x=\"confID\", data=teams)\n",
    "plt.title('Distribution of confID')\n",
    "plt.show()\n",
    "\n",
    "sns.countplot(x=\"franchID\", data=teams)\n",
    "plt.title('Distribution of franchID')\n",
    "plt.show()\n",
    "\n",
    "plt.figure(figsize=(12, 8))\n",
    "sns.countplot(y=\"name\", data=teams, palette=\"colorblind\")\n",
    "plt.title(\"Distribution of name teams\")\n",
    "plt.xlabel(\"Count\")\n",
    "plt.ylabel(\"Name\")\n",
    "plt.show()\n",
    "\n",
    "\n",
    "plt.figure(figsize=(12, 8))\n",
    "sns.countplot(y=\"arena\", data=teams, palette=\"colorblind\")\n",
    "plt.title(\"Distribution of arena\")\n",
    "plt.xlabel(\"Count\")\n",
    "plt.ylabel(\"Arena\")\n",
    "plt.show()"
   ]
  },
  {
   "cell_type": "code",
   "execution_count": null,
   "metadata": {},
   "outputs": [],
   "source": [
    "plt.figure(figsize=(12, 8))\n",
    "sns.countplot(y=\"award\", data=awards_players, palette=\"viridis\")\n",
    "plt.title(\"Distribution of Awards\")\n",
    "plt.xlabel(\"Count\")\n",
    "plt.ylabel(\"Award\")\n",
    "plt.show()"
   ]
  },
  {
   "cell_type": "markdown",
   "metadata": {},
   "source": [
    "#### Correlation Matrix\n",
    "\n",
    "Correlation matrix to observe the relationship between the target and the continuous features"
   ]
  },
  {
   "cell_type": "code",
   "execution_count": null,
   "metadata": {},
   "outputs": [],
   "source": [
    "df = teams[['year','playoff', 'rank', 'o_fgm', 'o_fga', 'o_ftm', 'o_fta', 'o_3pm', 'o_3pa', 'o_oreb', 'o_dreb', 'o_reb', 'o_asts', 'o_pf', 'o_stl', 'o_to', 'o_blk', 'o_pts', 'd_fgm', 'd_fga', 'd_ftm', 'd_fta', 'd_3pm', 'd_3pa', 'd_oreb', 'd_dreb', 'd_reb', 'd_asts', 'd_pf', 'd_stl', 'd_to', 'd_blk', 'd_pts', 'tmORB', 'tmDRB', 'tmTRB', 'opptmORB', 'opptmDRB', 'opptmTRB', 'won', 'lost', 'GP', 'homeW', 'homeL', 'awayW', 'awayL', 'confW', 'confL', 'min', 'attend']]\n",
    "df.loc[:, 'playoff'] = df['playoff'].replace({'N': 0, 'Y': 1})\n",
    "\n",
    "# Calculate correlation matrix\n",
    "correlation_matrix = df.corr()\n",
    "# Display correlation matrix\n",
    "\n",
    "plt.figure(figsize=(35, 10))\n",
    "sns.heatmap(correlation_matrix, annot=True, cmap='coolwarm', fmt=\".2f\", linewidths=.3)\n",
    "plt.show()"
   ]
  },
  {
   "cell_type": "markdown",
   "metadata": {},
   "source": [
    "## Target Distribution\n",
    "\n",
    "The dataset is slightly unbalanced"
   ]
  },
  {
   "cell_type": "code",
   "execution_count": null,
   "metadata": {},
   "outputs": [],
   "source": [
    "sns.countplot(x='playoff', data=teams)\n",
    "plt.title('Target Distribution')\n",
    "\n",
    "plt.show()"
   ]
  },
  {
   "cell_type": "code",
   "execution_count": null,
   "metadata": {},
   "outputs": [],
   "source": [
    "playoff_teams = teams[teams['playoff'] == 'Y']\n",
    "\n",
    "# Group by team and count the number of playoff appearances and finals wins\n",
    "playoff_counts = playoff_teams.groupby('name')['playoff'].count().reset_index(name='playoff_appearances')\n",
    "finals_wins = playoff_teams[playoff_teams['finals'] == 'W'].groupby('name')['finals'].count().reset_index(name='finals_won')\n",
    "\n",
    "# Merge the two counts into a single DataFrame\n",
    "merge_counts = pd.merge(playoff_counts, finals_wins, on='name', how='left')\n",
    "\n",
    "# Fill NaN values with 0 for teams that didn't win finals\n",
    "\n",
    "# Plot the data\n",
    "plt.bar(merge_counts['name'], merge_counts['playoff_appearances'], label='Playoff Appearances')\n",
    "plt.bar(merge_counts['name'], merge_counts['finals_won'], label='Finals Wins')\n",
    "\n",
    "plt.xlabel('Team')\n",
    "plt.ylabel('Count')\n",
    "plt.title('Playoff Appearances vs Finals Wins')\n",
    "plt.legend()\n",
    "plt.xticks(rotation=45, ha='right')  # Rotate x-axis labels for better visibility\n",
    "plt.tight_layout()\n",
    "\n",
    "# Show the plot\n",
    "plt.show()\n",
    "\n"
   ]
  }
 ],
 "metadata": {
  "kernelspec": {
   "display_name": "Python 3",
   "language": "python",
   "name": "python3"
  },
  "language_info": {
   "codemirror_mode": {
    "name": "ipython",
    "version": 3
   },
   "file_extension": ".py",
   "mimetype": "text/x-python",
   "name": "python",
   "nbconvert_exporter": "python",
   "pygments_lexer": "ipython3",
   "version": "3.11.8"
  }
 },
 "nbformat": 4,
 "nbformat_minor": 2
}
