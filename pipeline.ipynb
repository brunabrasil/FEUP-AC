{
 "cells": [
  {
   "cell_type": "code",
   "execution_count": 13,
   "metadata": {},
   "outputs": [
    {
     "name": "stdout",
     "output_type": "stream",
     "text": [
      "Accuracy: 1.0\n"
     ]
    }
   ],
   "source": [
    "import pandas as pd\n",
    "import sqlite3\n",
    "from sklearn.tree import DecisionTreeClassifier\n",
    "from sklearn.model_selection import train_test_split\n",
    "from sklearn.metrics import accuracy_score\n",
    "from sklearn.preprocessing import OneHotEncoder\n",
    "\n",
    "db_path = 'data.db'\n",
    "connection = sqlite3.connect(db_path)\n",
    "\n",
    "queryTrain = \"SELECT * FROM teams WHERE year < 10 ORDER BY year\"\n",
    "train_data = pd.read_sql_query(queryTrain, connection)\n",
    "\n",
    "queryTest = \"SELECT * FROM teams WHERE year = 10\"\n",
    "test_data = pd.read_sql_query(queryTest, connection)\n",
    "\n",
    "# Define your features (X) and target (y) for training data\n",
    "X_train = train_data.drop(columns=['playoff', 'lgID', 'tmID', 'franchID','confID','divID', 'seeded', 'semis','finals','name', 'firstRound', 'arena'])  # Exclude non-feature columns\n",
    "y_train = train_data['playoff']  # Your target variable\n",
    "\n",
    "# Define your features (X) and target (y) for test data\n",
    "X_test = test_data.drop(columns=['playoff', 'lgID', 'tmID', 'franchID','confID','divID', 'seeded', 'semis','finals','name', 'firstRound', 'arena'])  # Exclude non-feature columns\n",
    "y_test = test_data['playoff']  # Your target variable\n",
    "\n",
    "# Create a Decision Tree classifier\n",
    "clf = DecisionTreeClassifier(random_state=0)\n",
    "\n",
    "# Fit the classifier on the training data\n",
    "clf.fit(X_train, y_train)\n",
    "\n",
    "# Make predictions on the test data\n",
    "y_pred = clf.predict(X_test)\n",
    "\n",
    "# Calculate accuracy on the test data\n",
    "accuracy = accuracy_score(y_test, y_pred)\n",
    "\n",
    "# Print the accuracy\n",
    "print(\"Accuracy:\", accuracy)\n",
    "\n",
    "\n",
    "\n"
   ]
  },
  {
   "cell_type": "code",
   "execution_count": null,
   "metadata": {},
   "outputs": [],
   "source": [
    "header = data.iloc[0]\n",
    "data = data[1:]  # Skip the header row\n",
    "\n",
    "# Separate the last row for testing\n",
    "test_data = data.iloc[-1:]\n",
    "train_data = data.iloc[:-1]\n",
    "\n",
    "# Define the column you want to use as the target variable\n",
    "target_column = 'playoff'  # Replace with your column name\n",
    "\n",
    "# Set the header as the column names for the DataFrame\n",
    "train_data.columns = header\n",
    "test_data.columns = header\n",
    "\n",
    "# Split the data into features (X) and the target variable (y)\n",
    "X_train = train_data.drop(columns=[target_column])\n",
    "y_train = train_data[target_column]\n",
    "X_test = test_data.drop(columns=[target_column])\n",
    "y_test = test_data[target_column]\n",
    "\n",
    "# Perform one-hot encoding on categorical columns with explicit categories\n",
    "categorical_columns = X_train.select_dtypes(include=['object']).columns.tolist()\n",
    "encoder = OneHotEncoder(sparse=False, drop='first', categories='auto')\n",
    "X_train_encoded = pd.DataFrame(encoder.fit_transform(X_train[categorical_columns]))\n",
    "X_test_encoded = pd.DataFrame(encoder.transform(X_test[categorical_columns]))\n",
    "\n",
    "# Reset the index of the encoded DataFrames to match the original data\n",
    "X_train_encoded.index = X_train.index\n",
    "X_test_encoded.index = X_test.index\n",
    "\n",
    "# Drop the original categorical columns and concatenate the encoded ones\n",
    "X_train = X_train.drop(columns=categorical_columns)\n",
    "X_test = X_test.drop(columns=categorical_columns)\n",
    "\n",
    "X_train = pd.concat([X_train, X_train_encoded], axis=1)\n",
    "X_test = pd.concat([X_test, X_test_encoded], axis=1)\n",
    "\n",
    "# Create and train a Decision Tree classifier\n",
    "clf = DecisionTreeClassifier()\n",
    "clf.fit(X_train, y_train)\n",
    "\n",
    "# Make predictions on the test data\n",
    "y_pred = clf.predict(X_test)\n",
    "\n",
    "# Evaluate the model using accuracy or other metrics\n",
    "accuracy = accuracy_score(y_test, y_pred)\n",
    "print(f\"Accuracy: {accuracy}\")"
   ]
  }
 ],
 "metadata": {
  "kernelspec": {
   "display_name": "Python 3",
   "language": "python",
   "name": "python3"
  },
  "language_info": {
   "codemirror_mode": {
    "name": "ipython",
    "version": 3
   },
   "file_extension": ".py",
   "mimetype": "text/x-python",
   "name": "python",
   "nbconvert_exporter": "python",
   "pygments_lexer": "ipython3",
   "version": "3.11.5"
  },
  "orig_nbformat": 4
 },
 "nbformat": 4,
 "nbformat_minor": 2
}
