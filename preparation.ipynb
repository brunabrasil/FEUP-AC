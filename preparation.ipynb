{
 "cells": [
  {
   "cell_type": "code",
   "execution_count": 1,
   "metadata": {},
   "outputs": [],
   "source": [
    "import pandas as pd\n",
    "import matplotlib.pyplot as plt\n",
    "from datetime import datetime\n",
    "import seaborn as sns\n",
    "\n",
    "players = pd.read_csv('./Dataset/players.csv')\n",
    "teams = pd.read_csv('./Dataset/teams.csv')\n",
    "players_teams = pd.read_csv('./Dataset/players_teams.csv')\n",
    "awards_players = pd.read_csv('./Dataset/awards_players.csv')\n",
    "coaches = pd.read_csv('./Dataset/coaches.csv')\n",
    "series_post = pd.read_csv('./Dataset/series_post.csv')\n",
    "teams_post = pd.read_csv('./Dataset/teams_post.csv')\n",
    "\n"
   ]
  },
  {
   "cell_type": "markdown",
   "metadata": {},
   "source": [
    "### Awards_players\n",
    "\n",
    "\n",
    "- corrected name of a prize\n",
    "- drop lgID\n",
    "- calculate the number of prizes that each player has (having in consideration the year)\n",
    "- drop award (name)"
   ]
  },
  {
   "cell_type": "code",
   "execution_count": 2,
   "metadata": {},
   "outputs": [],
   "source": [
    "awards_players['award'] = awards_players['award'].replace(\"Kim Perrot Sportsmanship\", \"Kim Perrot Sportsmanship Award\")\n",
    "awards_players = awards_players.drop(columns=['lgID'], axis=1)\n",
    "\n",
    "# Sort the DataFrame by playerID and year\n",
    "awards_players.sort_values(by=[\"playerID\", \"year\"], inplace=True)\n",
    "\n",
    "awards_players['num_prizes'] = awards_players.groupby('playerID').cumcount() + 1\n",
    "\n",
    "awards_players = awards_players.drop(columns=['award'], axis=1)\n",
    "\n",
    "awards_players.to_csv('modified_awards.csv', index=False)\n"
   ]
  },
  {
   "cell_type": "markdown",
   "metadata": {},
   "source": [
    "### Players\n",
    "\n",
    "- drop college, collegeOther, pos and lastseason\n",
    "- remove who has height = 0\n",
    "- replace height error (9) with the average\n",
    "- replace weight error (0) with the average\n"
   ]
  },
  {
   "cell_type": "code",
   "execution_count": 3,
   "metadata": {},
   "outputs": [],
   "source": [
    "players = players.drop('college', axis=1)\n",
    "players = players.drop('pos', axis=1)\n",
    "players = players.drop('collegeOther', axis=1)\n",
    "# Have only 0s\n",
    "players = players.drop('lastseason', axis=1)\n",
    "\n",
    "players = players[players['height'] > 0]\n",
    "\n",
    "# Calculate the mean of non-zero heights\n",
    "mean_height = players[(players['height'] != 0) | (players['height'] != 9)]['height'].mean()\n",
    "# Replace 9 with the mean height\n",
    "players['height'] = players['height'].replace(9, mean_height)\n",
    "\n",
    "# Calculate the mean of non-zero weights\n",
    "mean_weight = players[players['weight'] != 0]['weight'].mean()\n",
    "players['weight'] = players['weight'].replace(0, mean_weight)\n",
    "\n"
   ]
  },
  {
   "cell_type": "markdown",
   "metadata": {},
   "source": [
    "- add a column called Age, considering the of the season. Calculated through the merge between two datasets\n",
    "- drop birthdate and deathdate\n",
    "\n",
    "CORRECT WHEN DOESNT HAVE PRZIEEEE"
   ]
  },
  {
   "cell_type": "code",
   "execution_count": 4,
   "metadata": {},
   "outputs": [],
   "source": [
    "def calculate_age(row):\n",
    "    birth_year = int(row['birthDate'][:4])\n",
    "    age = 2000 + row['year'] - birth_year\n",
    "    return age\n",
    "\n",
    "\n",
    "merged_data = players.merge(players_teams, left_on='bioID', right_on='playerID')\n",
    "\n",
    "merged_data = merged_data.merge(awards_players, left_on=['bioID', 'year'], right_on=['playerID', 'year'], how='inner')\n",
    "\n",
    "# Apply the function to each row\n",
    "merged_data['age'] = merged_data.apply(calculate_age, axis=1)\n",
    "\n",
    "merged_data = merged_data.drop('birthDate', axis=1)\n",
    "merged_data = merged_data.drop('deathDate', axis=1)\n",
    "\n"
   ]
  },
  {
   "cell_type": "code",
   "execution_count": 5,
   "metadata": {},
   "outputs": [],
   "source": [
    "# Save the modified DataFrame to a CSV file\n",
    "players.to_csv('modified_players.csv', index=False)"
   ]
  },
  {
   "cell_type": "markdown",
   "metadata": {},
   "source": [
    "### Teams\n",
    "\n",
    "- drop seeded, confID, divID, franchID and arena\n",
    "- corrected error: one season it was registered two winners"
   ]
  },
  {
   "cell_type": "code",
   "execution_count": 6,
   "metadata": {},
   "outputs": [],
   "source": [
    "\n",
    "teams = teams.drop(columns=['seeded'], axis=1)\n",
    "teams = teams.drop(columns=['confID'], axis=1)\n",
    "teams = teams.drop(columns=['divID'], axis=1)\n",
    "teams = teams.drop(columns=['franchID'], axis=1)\n",
    "teams = teams.drop(columns=['arena'], axis=1)\n",
    "\n",
    "\n",
    "# In the year 6, a victory was incorrectly recorded.\n",
    "teams.loc[(teams['year'] == 6) & (teams['tmID'] == 'CON'), 'finals'] = 'L'\n",
    "\n"
   ]
  },
  {
   "cell_type": "markdown",
   "metadata": {},
   "source": [
    " calcular o numero de premios que cada equipa tem no total (de acordo com o numero de premio que cada jogadora tem) de acordo com o ano"
   ]
  },
  {
   "cell_type": "code",
   "execution_count": 7,
   "metadata": {},
   "outputs": [
    {
     "name": "stdout",
     "output_type": "stream",
     "text": [
      "   tmID  year  num_prizes\n",
      "10  HOU     1           5\n",
      "2   CLE     1           1\n",
      "34  NYL     1           1\n",
      "30  MIN     1           1\n",
      "29  MIA     2           1\n",
      "23  LAS     2           6\n",
      "42  POR     2           1\n",
      "35  NYL     2           1\n",
      "11  HOU     2           1\n",
      "53  WAS     3           1\n",
      "16  IND     3           1\n",
      "24  LAS     3           9\n",
      "37  PHO     3           1\n",
      "12  HOU     3           7\n",
      "13  HOU     4           6\n",
      "43  SAC     4           1\n",
      "6   DET     4           2\n",
      "48  SEA     4           1\n",
      "25  LAS     4           1\n",
      "49  SEA     5           2\n",
      "26  LAS     5          13\n",
      "31  MIN     5           1\n",
      "17  IND     5           1\n",
      "3   CON     5           1\n",
      "38  PHO     5           1\n",
      "18  IND     6           2\n",
      "14  HOU     6          13\n",
      "44  SAC     6           1\n",
      "54  WAS     6           1\n",
      "4   CON     6           1\n",
      "45  SAC     7           3\n",
      "39  PHO     7           2\n",
      "27  LAS     7          18\n",
      "50  SEA     7           3\n",
      "19  IND     7           7\n",
      "15  HOU     7          13\n",
      "32  MIN     7           1\n",
      "7   DET     7           2\n",
      "5   CON     7           1\n",
      "1   CHI     8           1\n",
      "36  NYL     8           1\n",
      "20  IND     8           1\n",
      "40  PHO     8           1\n",
      "51  SEA     8           7\n",
      "8   DET     8           3\n",
      "47  SAS     9           1\n",
      "33  MIN     9           1\n",
      "21  IND     9           1\n",
      "28  LAS     9          13\n",
      "9   DET     9           2\n",
      "52  SEA    10           1\n",
      "0   ATL    10           1\n",
      "41  PHO    10           8\n",
      "22  IND    10           5\n",
      "46  SAC    10           1\n",
      "55  WAS    10           1\n"
     ]
    }
   ],
   "source": [
    "\n",
    "playerAndTeams = merged_data.merge(teams, on=[\"tmID\", \"year\"])\n",
    "\n",
    "# Filter for teams that won the finals\n",
    "#winners_data = playerAndTeams[playerAndTeams['finals'] == 'W']\n",
    "\n",
    "# Group by team and year, summing the number of prizes\n",
    "team_prizes = playerAndTeams.groupby(['tmID', 'year'])['num_prizes'].sum().reset_index()\n",
    "\n",
    "# Fill NaN values with 0 for teams with no prizes\n",
    "team_prizes['num_prizes'].fillna(0, inplace=True)\n",
    "\n",
    "# Sort the result by year\n",
    "team_prizes.sort_values(by='year', ascending=True, inplace=True)\n",
    "print(team_prizes)\n",
    "\n",
    "teams = teams.merge(team_prizes, on=[\"tmID\", \"year\"])\n"
   ]
  },
  {
   "cell_type": "code",
   "execution_count": 8,
   "metadata": {},
   "outputs": [],
   "source": [
    "teams.to_csv('modified_teams.csv', index=False)\n",
    "\n",
    "merged_data.to_csv('merged_data.csv', index=False)\n",
    "\n"
   ]
  }
 ],
 "metadata": {
  "kernelspec": {
   "display_name": "Python 3",
   "language": "python",
   "name": "python3"
  },
  "language_info": {
   "codemirror_mode": {
    "name": "ipython",
    "version": 3
   },
   "file_extension": ".py",
   "mimetype": "text/x-python",
   "name": "python",
   "nbconvert_exporter": "python",
   "pygments_lexer": "ipython3",
   "version": "3.11.5"
  }
 },
 "nbformat": 4,
 "nbformat_minor": 2
}
