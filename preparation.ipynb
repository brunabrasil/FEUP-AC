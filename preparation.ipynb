{
 "cells": [
  {
   "cell_type": "code",
   "execution_count": 61,
   "metadata": {},
   "outputs": [],
   "source": [
    "import pandas as pd\n",
    "import matplotlib.pyplot as plt\n",
    "from datetime import datetime\n",
    "import seaborn as sns\n",
    "\n",
    "players = pd.read_csv('./Dataset/players.csv')\n",
    "teams = pd.read_csv('./Dataset/teams.csv')\n",
    "players_teams = pd.read_csv('./Dataset/players_teams.csv')\n",
    "awards_players = pd.read_csv('./Dataset/awards_players.csv')\n",
    "coaches = pd.read_csv('./Dataset/coaches.csv')\n",
    "series_post = pd.read_csv('./Dataset/series_post.csv')\n",
    "teams_post = pd.read_csv('./Dataset/teams_post.csv')\n",
    "\n"
   ]
  },
  {
   "cell_type": "markdown",
   "metadata": {},
   "source": [
    "### Awards_players\n",
    "\n",
    "\n",
    "- corrected name of a prize\n",
    "- drop lgID\n",
    "- calculate the number of prizes that each player has (having in consideration the year)\n",
    "- drop award (name)"
   ]
  },
  {
   "cell_type": "code",
   "execution_count": 62,
   "metadata": {},
   "outputs": [],
   "source": [
    "awards_players['award'] = awards_players['award'].replace(\"Kim Perrot Sportsmanship\", \"Kim Perrot Sportsmanship Award\")\n",
    "awards_players = awards_players.drop(columns=['lgID'], axis=1)\n",
    "\n",
    "# Sort the DataFrame by playerID and year\n",
    "awards_players.sort_values(by=[\"playerID\", \"year\"], inplace=True)\n",
    "\n",
    "awards_players['num_prizes'] = awards_players.groupby('playerID').cumcount() + 1\n",
    "\n",
    "awards_players = awards_players.drop(columns=['award'], axis=1)\n"
   ]
  },
  {
   "cell_type": "markdown",
   "metadata": {},
   "source": [
    "### Players\n",
    "\n",
    "- drop college, collegeOther, pos and lastseason\n",
    "- remove who has height = 0\n",
    "- replace height error (9) with the average\n",
    "- replace weight error (0) with the average\n"
   ]
  },
  {
   "cell_type": "code",
   "execution_count": 63,
   "metadata": {},
   "outputs": [],
   "source": [
    "players = players.drop('college', axis=1)\n",
    "players = players.drop('pos', axis=1)\n",
    "players = players.drop('collegeOther', axis=1)\n",
    "# Have only 0s\n",
    "players = players.drop('lastseason', axis=1)\n",
    "players = players.drop('firstseason', axis=1)\n",
    "\n",
    "players = players[players['height'] > 0]\n",
    "\n",
    "# Calculate the mean of non-zero heights\n",
    "mean_height = players[(players['height'] != 0) | (players['height'] != 9)]['height'].mean()\n",
    "# Replace 9 with the mean height\n",
    "players['height'] = players['height'].replace(9, mean_height)\n",
    "\n",
    "# Calculate the mean of non-zero weights\n",
    "mean_weight = players[players['weight'] != 0]['weight'].mean()\n",
    "players['weight'] = players['weight'].replace(0, mean_weight)\n",
    "\n"
   ]
  },
  {
   "cell_type": "markdown",
   "metadata": {},
   "source": [
    "- add a column called Age, considering the year of the season. Calculated through the merge between two datasets\n",
    "- drop birthdate and deathdate\n"
   ]
  },
  {
   "cell_type": "code",
   "execution_count": 64,
   "metadata": {},
   "outputs": [],
   "source": [
    "def calculate_age(row):\n",
    "    birth_year = int(row['birthDate'][:4])\n",
    "    age = 2000 + row['year'] - birth_year\n",
    "    return age\n",
    "\n",
    "players_teams = players_teams.drop('lgID', axis=1)\n",
    "\n",
    "merged_data = players.merge(players_teams, left_on='bioID', right_on='playerID')\n",
    "\n",
    "merged_data = merged_data.merge(awards_players, left_on=['bioID', 'year'], right_on=['playerID', 'year'], how='left')\n",
    "merged_data.sort_values(by=[\"bioID\", \"year\"], inplace=True)\n",
    "\n",
    "merged_data['num_prizes'] = merged_data.groupby('bioID')['num_prizes'].ffill()\n",
    "\n",
    "# Fill NaN values with 0 for players with no prizes \n",
    "merged_data['num_prizes'].fillna(0, inplace=True)\n",
    "\n",
    "# Apply the function to each row\n",
    "merged_data['age'] = merged_data.apply(calculate_age, axis=1)\n",
    "\n",
    "merged_data = merged_data.drop('birthDate', axis=1)\n",
    "merged_data = merged_data.drop('deathDate', axis=1)\n",
    "merged_data = merged_data.drop('playerID_x', axis=1)\n",
    "merged_data = merged_data.drop('playerID_y', axis=1)\n",
    "\n",
    "\n",
    "\n"
   ]
  },
  {
   "cell_type": "markdown",
   "metadata": {},
   "source": [
    "### Coaches\n",
    "\n",
    "- drop lgID, stint, post_wins and post_losses\n",
    "- create column num_prizes (merging awards_players)"
   ]
  },
  {
   "cell_type": "code",
   "execution_count": 65,
   "metadata": {},
   "outputs": [],
   "source": [
    "coaches = coaches.drop(columns=['lgID'], axis=1)\n",
    "coaches = coaches.drop(columns=['stint'], axis=1)\n",
    "coaches = coaches.drop(columns=['post_wins'], axis=1)\n",
    "coaches = coaches.drop(columns=['post_losses'], axis=1)\n",
    "\n",
    "coaches = coaches.merge(awards_players, left_on=['coachID', 'year'], right_on=['playerID', 'year'], how='left')\n",
    "coaches.sort_values(by=[\"coachID\", \"year\"], inplace=True)\n",
    "\n",
    "coaches['num_prizes'] = coaches.groupby('coachID')['num_prizes'].ffill()\n",
    "\n",
    "# Fill NaN values with 0 for players with no prizes \n",
    "coaches['num_prizes'].fillna(0, inplace=True)\n",
    "\n",
    "coaches = coaches.drop(columns=['playerID'], axis=1)\n"
   ]
  },
  {
   "cell_type": "markdown",
   "metadata": {},
   "source": [
    "### Teams\n",
    "\n",
    "- drop seeded, confID, divID, franchID, arena, lgID and name\n",
    "- corrected error: one season it was registered two winners"
   ]
  },
  {
   "cell_type": "code",
   "execution_count": 66,
   "metadata": {},
   "outputs": [],
   "source": [
    "\n",
    "teams = teams.drop(columns=['seeded'], axis=1)\n",
    "teams = teams.drop(columns=['confID'], axis=1)\n",
    "teams = teams.drop(columns=['divID'], axis=1)\n",
    "teams = teams.drop(columns=['franchID'], axis=1)\n",
    "teams = teams.drop(columns=['arena'], axis=1)\n",
    "teams = teams.drop(columns=['lgID'], axis=1)\n",
    "teams = teams.drop(columns=['name'], axis=1)\n",
    "teams = teams.drop(columns=['tmORB'], axis=1)\n",
    "teams = teams.drop(columns=['tmDRB'], axis=1)\n",
    "teams = teams.drop(columns=['tmTRB'], axis=1)\n",
    "teams = teams.drop(columns=['opptmORB'], axis=1)\n",
    "teams = teams.drop(columns=['opptmDRB'], axis=1)\n",
    "teams = teams.drop(columns=['opptmTRB'], axis=1)\n",
    "\n",
    "\n",
    "# In the year 6, a victory was incorrectly recorded.\n",
    "teams.loc[(teams['year'] == 6) & (teams['tmID'] == 'CON'), 'finals'] = 'L'\n",
    "\n"
   ]
  },
  {
   "cell_type": "markdown",
   "metadata": {},
   "source": [
    "- calculate the number of prizes a team has (total of prizes the players have), creating the column num_prizese"
   ]
  },
  {
   "cell_type": "code",
   "execution_count": 67,
   "metadata": {},
   "outputs": [
    {
     "name": "stdout",
     "output_type": "stream",
     "text": [
      "    tmID  year  num_prizes\n",
      "63   MIA     1         0.0\n",
      "24   DET     1         0.0\n",
      "89   PHO     1         0.0\n",
      "129  UTA     1         0.0\n",
      "99   POR     1         0.0\n",
      "..   ...   ...         ...\n",
      "75   MIN    10         3.0\n",
      "85   NYL    10         1.0\n",
      "98   PHO    10        10.0\n",
      "52   IND    10        10.0\n",
      "141  WAS    10         1.0\n",
      "\n",
      "[142 rows x 3 columns]\n"
     ]
    }
   ],
   "source": [
    "\n",
    "playerAndTeams = merged_data.merge(teams, on=[\"tmID\", \"year\"])\n",
    "\n",
    "# Filter for teams that won the finals\n",
    "winners_data = playerAndTeams[playerAndTeams['finals'] == 'W']\n",
    "\n",
    "# Group by team and year, summing the number of prizes\n",
    "team_prizes = playerAndTeams.groupby(['tmID', 'year'])['num_prizes'].sum().reset_index()\n",
    "\n",
    "# Sort the result by year\n",
    "team_prizes.sort_values(by='year', ascending=True, inplace=True)\n",
    "print(team_prizes)\n",
    "\n",
    "teams = teams.merge(team_prizes, on=[\"tmID\", \"year\"])\n"
   ]
  },
  {
   "cell_type": "markdown",
   "metadata": {},
   "source": [
    "- add to the table teams the number of prizes the coach has (sum it in the column num_prizes)"
   ]
  },
  {
   "cell_type": "code",
   "execution_count": 68,
   "metadata": {},
   "outputs": [],
   "source": [
    "\"\"\" teams = pd.merge(teams, coaches[['tmID', 'year', 'won', 'lost']], on=['tmID', 'year'], how='left')\n",
    "\n",
    "teams = teams.rename(columns={'won_y': 'coach_won', 'lost_y': 'coach_lost'})\n",
    "\n",
    "print(teams) \"\"\"\n",
    "\n",
    "merged_df = pd.merge(teams, coaches, on=['year', 'tmID'], how='left')\n",
    "\n",
    "merged_df['num_prizes_y'] = merged_df['num_prizes_y'].fillna(0)\n",
    "\n",
    "merged_df['num_prizes'] = merged_df['num_prizes_x'] + merged_df['num_prizes_y']\n",
    "\n",
    "merged_df = merged_df.drop(['num_prizes_x', 'num_prizes_y'], axis=1)\n",
    "\n",
    "# Update the 'num_prizes' column in the original teams DataFrame\n",
    "teams['num_prizes'] = merged_df['num_prizes']"
   ]
  },
  {
   "cell_type": "code",
   "execution_count": 69,
   "metadata": {},
   "outputs": [
    {
     "data": {
      "image/png": "[encoded data removed]",
      "text/plain": [
       "<Figure size 640x480 with 1 Axes>"
      ]
     },
     "metadata": {},
     "output_type": "display_data"
    }
   ],
   "source": [
    "winners = teams[teams['finals'] == 'W']\n",
    "losers = teams[teams['finals'] == 'L']\n",
    "\n",
    "# Plotting\n",
    "plt.bar(winners['year'], winners['num_prizes'], label='Winners')\n",
    "plt.bar(losers['year'], losers['num_prizes'], label='Losers')\n",
    "\n",
    "# Adding labels and title\n",
    "plt.xlabel('Year')\n",
    "plt.ylabel('Number of Prizes')\n",
    "plt.title('Number of Prizes: Winners vs Losers')\n",
    "plt.legend()\n",
    "\n",
    "# Show the plot\n",
    "plt.show()\n",
    "\n"
   ]
  },
  {
   "cell_type": "code",
   "execution_count": 70,
   "metadata": {},
   "outputs": [],
   "source": [
    "teams.to_csv('./Modified/modified_teams.csv', index=False)\n",
    "players.to_csv('./Modified/modified_players.csv', index=False)\n",
    "awards_players.to_csv('./Modified/modified_awards.csv', index=False)\n",
    "merged_data.to_csv('./Modified/players_playersTeams.csv', index=False)\n",
    "coaches.to_csv('./Modified/modified_coaches.csv', index=False)"
   ]
  }
 ],
 "metadata": {
  "kernelspec": {
   "display_name": "Python 3",
   "language": "python",
   "name": "python3"
  },
  "language_info": {
   "codemirror_mode": {
    "name": "ipython",
    "version": 3
   },
   "file_extension": ".py",
   "mimetype": "text/x-python",
   "name": "python",
   "nbconvert_exporter": "python",
   "pygments_lexer": "ipython3",
   "version": "3.11.5"
  }
 },
 "nbformat": 4,
 "nbformat_minor": 2
}
