{
 "cells": [
  {
   "cell_type": "code",
   "execution_count": 382,
   "metadata": {},
   "outputs": [],
   "source": [
    "import pandas as pd\n",
    "import matplotlib.pyplot as plt\n",
    "from datetime import datetime\n",
    "import seaborn as sns\n",
    "from sklearn.tree import DecisionTreeClassifier\n",
    "from sklearn.metrics import accuracy_score\n",
    "import missingno as msno\n",
    "\n",
    "players = pd.read_csv('./Dataset/players.csv')\n",
    "teams = pd.read_csv('./Dataset/teams.csv')\n",
    "players_teams = pd.read_csv('./Dataset/players_teams.csv')\n",
    "awards_players = pd.read_csv('./Dataset/awards_players.csv')\n",
    "coaches = pd.read_csv('./Dataset/coaches.csv')\n",
    "series_post = pd.read_csv('./Dataset/series_post.csv')\n",
    "teams_post = pd.read_csv('./Dataset/teams_post.csv')\n"
   ]
  },
  {
   "cell_type": "markdown",
   "metadata": {},
   "source": [
    "### Awards_players\n",
    "\n",
    "\n",
    "- corrected name of a prize\n",
    "- drop lgID\n",
    "- calculate the number of prizes that each player has (having in consideration the year)\n",
    "- drop award (name)"
   ]
  },
  {
   "cell_type": "code",
   "execution_count": 383,
   "metadata": {},
   "outputs": [],
   "source": [
    "awards_players['award'] = awards_players['award'].replace(\"Kim Perrot Sportsmanship\", \"Kim Perrot Sportsmanship Award\")\n",
    "awards_players = awards_players.drop(columns=['lgID'], axis=1)\n",
    "\n",
    "award_weights = {\n",
    "    \"All-Star Game Most Valuable Player\": 2,\n",
    "    \"Coach of the Year\": 3,\n",
    "    \"Defensive Player of the Year\": 4,\n",
    "    \"Kim Perrot Sportsmanship Award\": 1,\n",
    "    \"Most Improved Player\": 2,\n",
    "    \"Most valuable Player\": 5,\n",
    "    \"Rookie of the Year\": 3,\n",
    "    \"Sixth Woman of the Year\": 2,\n",
    "    \"WNBA Finals Most Valuable Player\": 4,\n",
    "    \"WNBA All-Decade Team\": 1,\n",
    "    \"WNBA All Decade Team Honorable Mention\": 1,\n",
    "}\n",
    "\n",
    "# Sort the DataFrame by playerID and year\n",
    "awards_players.sort_values(by=[\"playerID\", \"year\"], inplace=True)\n",
    "\n",
    "awards_players['award_weight'] = awards_players['award'].map(award_weights)\n",
    "awards_players['num_prizes'] = awards_players.groupby('playerID')['award_weight'].cumsum()\n",
    "\n",
    "awards_players = awards_players.drop(columns=['award', 'award_weight'], axis=1)\n",
    "\n",
    "awards_players.to_csv('./Modified/modified_awards.csv', index=False)\n"
   ]
  },
  {
   "cell_type": "markdown",
   "metadata": {},
   "source": [
    "### Players\n",
    "\n",
    "- drop college, collegeOther, pos and lastseason\n",
    "- remove who has height = 0\n",
    "- replace height error (9) with the average\n",
    "- replace weight error (0) with the average\n"
   ]
  },
  {
   "cell_type": "code",
   "execution_count": 384,
   "metadata": {},
   "outputs": [],
   "source": [
    "players = players.drop('college', axis=1)\n",
    "players = players.drop('pos', axis=1)\n",
    "players = players.drop('collegeOther', axis=1)\n",
    "# Have only 0s\n",
    "players = players.drop('lastseason', axis=1)\n",
    "players = players.drop('firstseason', axis=1)\n",
    "\n",
    "players = players[players['height'] > 0]\n",
    "\n",
    "# Calculate the mean of non-zero heights\n",
    "mean_height = players[(players['height'] != 0) | (players['height'] != 9)]['height'].mean()\n",
    "# Replace 9 with the mean height\n",
    "players['height'] = players['height'].replace(9, mean_height)\n",
    "\n",
    "# Calculate the mean of non-zero weights\n",
    "mean_weight = players[players['weight'] != 0]['weight'].mean()\n",
    "players['weight'] = players['weight'].replace(0, mean_weight)\n"
   ]
  },
  {
   "cell_type": "markdown",
   "metadata": {},
   "source": [
    "### Players_teams\n",
    "\n",
    "- statistics: mean of the last two years\n",
    "    - if just appeared 1 year before, use the info of that year\n",
    "    - if never appeared before, null ( we doesnt know anything about that player at the beginning of the season)"
   ]
  },
  {
   "cell_type": "code",
   "execution_count": 385,
   "metadata": {},
   "outputs": [],
   "source": [
    "players_teams = players_teams.drop(columns=['lgID', 'PostGP','PostGS','PostMinutes','PostPoints','PostoRebounds','PostdRebounds','PostRebounds','PostAssists','PostSteals','PostBlocks','PostTurnovers','PostPF','PostfgAttempted','PostfgMade','PostftAttempted','PostftMade','PostthreeAttempted','PostthreeMade','PostDQ'], axis=1)\n",
    "\n",
    "players_teams.sort_values(by=[\"playerID\", \"year\"])\n",
    "\n",
    "mean_columns = ['GP', 'GS', 'minutes', 'points', 'oRebounds', 'dRebounds', 'rebounds', 'assists', 'steals', 'blocks', 'turnovers', 'PF', 'fgAttempted', 'fgMade', 'ftAttempted', 'ftMade', 'threeAttempted', 'threeMade', 'dq']\n",
    "\n",
    "# Calculate the mean for each column over the rolling window\n",
    "for col in mean_columns:\n",
    "    players_teams[f'mean_{col}'] = players_teams.groupby('playerID')[col].shift(1)\n",
    "    \n",
    "#players_teams[f'mean_{col}'] = players_teams.groupby('playerID')[col].shift(1).rolling(window=2, min_periods=1).mean().reset_index(level=0, drop=True)\n",
    "\n",
    "\n",
    "players_teams.drop(mean_columns, axis=1, inplace=True)"
   ]
  },
  {
   "cell_type": "markdown",
   "metadata": {},
   "source": [
    "- add a column called Age, considering the year of the season. Calculated through the merge between two datasets\n",
    "- drop birthdate and deathdate\n"
   ]
  },
  {
   "cell_type": "code",
   "execution_count": 386,
   "metadata": {},
   "outputs": [],
   "source": [
    "def calculate_age(row):\n",
    "    birth_year = int(row['birthDate'][:4])\n",
    "    age = 2000 + row['year'] - birth_year\n",
    "    return age\n",
    "\n",
    "\n",
    "merged_data = players.merge(players_teams, left_on='bioID', right_on='playerID')\n",
    "merged_data = merged_data.merge(awards_players, left_on=['bioID', 'year'], right_on=['playerID', 'year'], how='left')\n",
    "merged_data.sort_values(by=[\"bioID\", \"year\"], inplace=True)\n",
    "\n",
    "merged_data['num_prizes'] = merged_data.groupby('bioID')['num_prizes'].ffill()\n",
    "\n",
    "# Fill NaN values with 0 for players with no prizes \n",
    "merged_data['num_prizes'].fillna(0, inplace=True)\n",
    "\n",
    "# Apply the function to each row\n",
    "merged_data['age'] = merged_data.apply(calculate_age, axis=1)\n",
    "\n",
    "merged_data = merged_data.drop('birthDate', axis=1)\n",
    "merged_data = merged_data.drop('deathDate', axis=1)\n",
    "merged_data = merged_data.drop('playerID_x', axis=1)\n",
    "merged_data = merged_data.drop('playerID_y', axis=1)\n"
   ]
  },
  {
   "cell_type": "markdown",
   "metadata": {},
   "source": [
    "### Coaches\n",
    "\n",
    "- drop lgID, stint, post_wins and post_losses\n",
    "- create column num_prizes (merging awards_players)"
   ]
  },
  {
   "cell_type": "code",
   "execution_count": 387,
   "metadata": {},
   "outputs": [],
   "source": [
    "coaches = coaches.drop(columns=['lgID'], axis=1)\n",
    "coaches = coaches.drop(columns=['stint'], axis=1)\n",
    "coaches = coaches.drop(columns=['post_wins'], axis=1)\n",
    "coaches = coaches.drop(columns=['post_losses'], axis=1)\n",
    "\n",
    "coaches = coaches.merge(awards_players, left_on=['coachID', 'year'], right_on=['playerID', 'year'], how='left')\n",
    "coaches.sort_values(by=[\"coachID\", \"year\"], inplace=True)\n",
    "\n",
    "coaches['num_prizes'] = coaches.groupby('coachID')['num_prizes'].ffill()\n",
    "\n",
    "# Fill NaN values with 0 for players with no prizes \n",
    "coaches['num_prizes'].fillna(0, inplace=True)\n",
    "\n",
    "coaches = coaches.drop(columns=['playerID'], axis=1)\n"
   ]
  },
  {
   "cell_type": "markdown",
   "metadata": {},
   "source": [
    "### Teams\n",
    "\n",
    "- drop seeded, confID, divID, franchID, arena, lgID and name\n",
    "- corrected error: one season it was registered two winners"
   ]
  },
  {
   "cell_type": "code",
   "execution_count": 388,
   "metadata": {},
   "outputs": [],
   "source": [
    "teams = teams.drop(columns=['seeded', 'divID', 'franchID', 'arena', 'lgID', 'name', 'tmORB'], axis=1)\n",
    "teams = teams.drop(columns=['tmDRB'], axis=1)\n",
    "teams = teams.drop(columns=['tmTRB'], axis=1)\n",
    "teams = teams.drop(columns=['opptmORB'], axis=1)\n",
    "teams = teams.drop(columns=['opptmDRB'], axis=1)\n",
    "teams = teams.drop(columns=['opptmTRB'], axis=1)\n",
    "teams = teams.drop(columns=['firstRound'], axis=1)\n",
    "teams = teams.drop(columns=['semis'], axis=1)\n",
    "teams = teams.drop(columns=['finals'], axis=1)\n",
    "teams = teams.drop(columns=['o_fgm','o_fga','o_ftm','o_fta','o_3pm','o_3pa','o_oreb','o_dreb','o_reb','o_asts','o_pf','o_stl','o_to','o_blk','o_pts','d_fgm','d_fga','d_ftm','d_fta','d_3pm','d_3pa','d_oreb','d_dreb','d_reb','d_asts','d_pf','d_stl','d_to','d_blk','d_pts','GP','homeW','homeL','awayW','awayL','confW','confL','min'], axis=1)\n",
    "\n",
    "\n",
    "\n",
    "columns_to_shift = ['won', 'lost', 'attend', 'rank']\n",
    "\"\"\" \n",
    "teams.sort_values(by=[\"tmID\", \"year\"])\n",
    "# Group by team and shift the specified columns to get the previous year's values\n",
    "for col in columns_to_shift:\n",
    "    teams[f'prev_{col}'] = teams.groupby('tmID')[col].shift(1)\n",
    "\n",
    "teams = teams[teams.groupby('tmID').cumcount() > 0] \"\"\"\n",
    "teams = teams.drop(columns=columns_to_shift, axis=1)\n",
    "\n",
    "# In the year 6, a victory was incorrectly recorded.\n",
    "#teams.loc[(teams['year'] == 6) & (teams['tmID'] == 'CON'), 'finals'] = 'L'\n"
   ]
  },
  {
   "cell_type": "markdown",
   "metadata": {},
   "source": [
    "- calculate the number of prizes a team has (total of prizes the players have), creating the column num_prizes"
   ]
  },
  {
   "cell_type": "code",
   "execution_count": 389,
   "metadata": {},
   "outputs": [],
   "source": [
    "merged_data.sort_values(by=[\"bioID\", \"year\"])\n",
    "\n",
    "teams.sort_values(by=[\"tmID\", \"year\"])\n",
    "\n",
    "playerAndTeams = merged_data.merge(teams, on=[\"tmID\", \"year\"])\n",
    "\n",
    "# Group by team and year, summing the number of prizes\n",
    "team_prizes = playerAndTeams.groupby(['tmID', 'year'])['num_prizes'].sum().reset_index()\n",
    "\n",
    "# Sort the result by year\n",
    "team_prizes.sort_values(by='year', inplace=True)\n",
    "\n",
    "teams = teams.merge(team_prizes, on=[\"tmID\", \"year\"])\n"
   ]
  },
  {
   "cell_type": "markdown",
   "metadata": {},
   "source": [
    "- calculate the sum of the statistics of the players of each team"
   ]
  },
  {
   "cell_type": "code",
   "execution_count": 390,
   "metadata": {},
   "outputs": [],
   "source": [
    "\n",
    "# Define the columns to sum\n",
    "sum_columns = ['mean_GP', 'mean_GS', 'mean_minutes', 'mean_points', 'mean_oRebounds', 'mean_dRebounds', 'mean_rebounds', 'mean_assists', 'mean_steals', 'mean_blocks', 'mean_turnovers', 'mean_PF', 'mean_fgAttempted', 'mean_fgMade', 'mean_ftAttempted', 'mean_ftMade', 'mean_threeAttempted', 'mean_threeMade', 'mean_dq']\n",
    "\n",
    "# Sum the columns for each team and year\n",
    "summed_columns = playerAndTeams.groupby(['tmID', 'year'])[sum_columns].sum().reset_index()\n",
    "\n",
    "summed_columns.columns = ['tmID', 'year'] + ['sum_' + col for col in sum_columns]\n",
    "\n",
    "# Merge the summed columns back into the 'teams' table\n",
    "teams = pd.merge(teams, summed_columns, how='left', on=['tmID', 'year'])\n"
   ]
  },
  {
   "cell_type": "markdown",
   "metadata": {},
   "source": [
    "- calculate the mean of the height, weight and age of the players of each team"
   ]
  },
  {
   "cell_type": "code",
   "execution_count": 391,
   "metadata": {},
   "outputs": [],
   "source": [
    "\n",
    "team_means = playerAndTeams.groupby(['tmID', 'year']).agg({\n",
    "    'height': 'mean',\n",
    "    'weight': 'mean',\n",
    "    'age': 'mean',\n",
    "}).reset_index()\n",
    "teams = pd.merge(teams, team_means, on=['tmID', 'year'], how='left')\n",
    "\n"
   ]
  },
  {
   "cell_type": "markdown",
   "metadata": {},
   "source": [
    "- add to the table teams the number of prizes the coach has (sum it in the column num_prizes)"
   ]
  },
  {
   "cell_type": "code",
   "execution_count": 392,
   "metadata": {},
   "outputs": [
    {
     "data": {
      "text/plain": [
       "\" merged_df = pd.merge(teams, coaches, on=['year', 'tmID'], how='left')\\n\\nmerged_df['num_prizes_y'] = merged_df['num_prizes_y'].fillna(0)\\n\\nmerged_df['num_prizes'] = merged_df['num_prizes_x'] + merged_df['num_prizes_y']\\n\\nmerged_df = merged_df.drop(['num_prizes_x', 'num_prizes_y'], axis=1)\\n\\n# Update the 'num_prizes' column in the original teams DataFrame\\nteams['num_prizes'] = merged_df['num_prizes']\\n\\n \""
      ]
     },
     "execution_count": 392,
     "metadata": {},
     "output_type": "execute_result"
    }
   ],
   "source": [
    "\"\"\" teams = pd.merge(teams, coaches[['tmID', 'year', 'won', 'lost']], on=['tmID', 'year'], how='left')\n",
    "\n",
    "teams = teams.rename(columns={'won_y': 'coach_won', 'lost_y': 'coach_lost'})\n",
    "\n",
    "print(teams) \"\"\"\n",
    "\n",
    "\"\"\" merged_df = pd.merge(teams, coaches, on=['year', 'tmID'], how='left')\n",
    "\n",
    "merged_df['num_prizes_y'] = merged_df['num_prizes_y'].fillna(0)\n",
    "\n",
    "merged_df['num_prizes'] = merged_df['num_prizes_x'] + merged_df['num_prizes_y']\n",
    "\n",
    "merged_df = merged_df.drop(['num_prizes_x', 'num_prizes_y'], axis=1)\n",
    "\n",
    "# Update the 'num_prizes' column in the original teams DataFrame\n",
    "teams['num_prizes'] = merged_df['num_prizes']\n",
    "\n",
    " \"\"\""
   ]
  },
  {
   "cell_type": "code",
   "execution_count": 393,
   "metadata": {},
   "outputs": [
    {
     "name": "stdout",
     "output_type": "stream",
     "text": [
      "Accuracy: 0.7692307692307693\n"
     ]
    }
   ],
   "source": [
    "from sklearn.preprocessing import LabelEncoder\n",
    "\n",
    "# Encode the 'playoff' column\n",
    "label_encoder = LabelEncoder()\n",
    "teams['playoff'] = label_encoder.fit_transform(teams['playoff'])\n",
    "#teams['previous_playoff'] = label_encoder.fit_transform(teams['previous_playoff'])\n",
    "teams['tmID'] = label_encoder.fit_transform(teams['tmID'])\n",
    "teams['confID'] = label_encoder.fit_transform(teams['confID'])\n",
    "#teams = pd.get_dummies(teams, columns=['tmID', 'confID'])\n",
    "\n",
    "\n",
    "train_data = teams[teams['year'] <= 9]\n",
    "test_data = teams[teams['year'] == 10]\n",
    "\n",
    "X_train = train_data.drop(['playoff'], axis=1)\n",
    "y_train = train_data['playoff']\n",
    "\n",
    "X_test = test_data.drop(['playoff'], axis=1)\n",
    "y_test = test_data['playoff']\n",
    "\n",
    "clf = DecisionTreeClassifier(random_state=0)\n",
    "\n",
    "# Fit the classifier on the training data\n",
    "clf.fit(X_train, y_train)\n",
    "\n",
    "# Make predictions on the test set\n",
    "predictions = clf.predict(X_test)\n",
    "\n",
    "# Evaluate the accuracy of the model\n",
    "accuracy = accuracy_score(y_test, predictions)\n",
    "print(\"Accuracy:\", accuracy)"
   ]
  },
  {
   "cell_type": "code",
   "execution_count": 394,
   "metadata": {},
   "outputs": [
    {
     "name": "stdout",
     "output_type": "stream",
     "text": [
      "Logistic Regression Accuracy: 0.8461538461538461\n"
     ]
    }
   ],
   "source": [
    "from sklearn.linear_model import LogisticRegression\n",
    "\n",
    "# Use the same train_data and test_data from your code\n",
    "\n",
    "X_train = train_data.drop(['playoff'], axis=1)\n",
    "y_train = train_data['playoff']\n",
    "\n",
    "X_test = test_data.drop(['playoff'], axis=1)\n",
    "y_test = test_data['playoff']\n",
    "\n",
    "# Initialize the logistic regression classifier\n",
    "logreg_clf = LogisticRegression(solver='liblinear',random_state=0)\n",
    "\n",
    "# Fit the classifier on the training data\n",
    "logreg_clf.fit(X_train, y_train)\n",
    "\n",
    "# Make predictions on the test set\n",
    "logreg_predictions = logreg_clf.predict(X_test)\n",
    "\n",
    "# Evaluate the accuracy of the model\n",
    "logreg_accuracy = accuracy_score(y_test, logreg_predictions)\n",
    "print(\"Logistic Regression Accuracy:\", logreg_accuracy)\n"
   ]
  },
  {
   "cell_type": "code",
   "execution_count": 395,
   "metadata": {},
   "outputs": [],
   "source": [
    "teams.to_csv('./Modified/modified_teams.csv', index=False)\n",
    "merged_data.to_csv('./Modified/players_playersTeams.csv', index=False)\n",
    "coaches.to_csv('./Modified/modified_coaches.csv', index=False)"
   ]
  }
 ],
 "metadata": {
  "kernelspec": {
   "display_name": "Python 3",
   "language": "python",
   "name": "python3"
  },
  "language_info": {
   "codemirror_mode": {
    "name": "ipython",
    "version": 3
   },
   "file_extension": ".py",
   "mimetype": "text/x-python",
   "name": "python",
   "nbconvert_exporter": "python",
   "pygments_lexer": "ipython3",
   "version": "3.11.5"
  }
 },
 "nbformat": 4,
 "nbformat_minor": 2
}
