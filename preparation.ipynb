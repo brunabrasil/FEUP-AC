{
 "cells": [
  {
   "cell_type": "code",
   "execution_count": 16,
   "metadata": {},
   "outputs": [],
   "source": [
    "import pandas as pd\n",
    "import matplotlib.pyplot as plt\n",
    "from datetime import datetime\n",
    "import seaborn as sns\n",
    "\n",
    "players = pd.read_csv('./Dataset/players.csv')\n",
    "teams = pd.read_csv('./Dataset/teams.csv')\n",
    "players_teams = pd.read_csv('./Dataset/players_teams.csv')\n",
    "awards_players = pd.read_csv('./Dataset/awards_players.csv')\n",
    "coaches = pd.read_csv('./Dataset/coaches.csv')\n",
    "series_post = pd.read_csv('./Dataset/series_post.csv')\n",
    "teams_post = pd.read_csv('./Dataset/teams_post.csv')\n",
    "\n"
   ]
  },
  {
   "cell_type": "code",
   "execution_count": 17,
   "metadata": {},
   "outputs": [],
   "source": [
    "\n",
    "players = players.drop('collegeOther', axis=1)\n",
    "\n",
    "# Have only 0s\n",
    "players = players.drop('lastseason', axis=1)\n",
    "\n",
    "players = players[players['height'] > 0]\n",
    "\n",
    "# Calculate the mean of non-zero heights\n",
    "mean_height = players[players['height'] != 0]['height'].mean()\n",
    "# Replace 0 with the mean height\n",
    "# Replace 9 with the mean height\n",
    "players['height'] = players['height'].replace(0, mean_height)\n",
    "players['height'] = players['height'].replace(9, mean_height)\n",
    "\n",
    "# Calculate the mean of non-zero weights\n",
    "mean_weight = players[players['weight'] != 0]['weight'].mean()\n",
    "players['weight'] = players['weight'].replace(0, mean_weight)\n"
   ]
  },
  {
   "cell_type": "code",
   "execution_count": 18,
   "metadata": {},
   "outputs": [],
   "source": [
    "def calculate_age(row):\n",
    "    birth_year = int(row['birthDate'][:4])\n",
    "    age = 2000 + row['year'] - birth_year\n",
    "    return age\n",
    "\n",
    "\n",
    "merged_data = players.merge(players_teams, left_on='bioID', right_on='playerID')\n",
    "\n",
    "# Apply the function to each row\n",
    "merged_data['age'] = merged_data.apply(calculate_age, axis=1)\n",
    "\n",
    "merged_data = merged_data.drop('birthDate', axis=1)\n",
    "merged_data = merged_data.drop('deathDate', axis=1)\n",
    "\n"
   ]
  },
  {
   "cell_type": "code",
   "execution_count": 19,
   "metadata": {},
   "outputs": [],
   "source": [
    "\n",
    "\n",
    "merged_data.to_csv('merged_data.csv', index=False)\n",
    "\n"
   ]
  },
  {
   "cell_type": "code",
   "execution_count": 20,
   "metadata": {},
   "outputs": [],
   "source": [
    "# Save the modified DataFrame to a CSV file\n",
    "players.to_csv('modified_players.csv', index=False)"
   ]
  },
  {
   "cell_type": "markdown",
   "metadata": {},
   "source": [
    "### Teams"
   ]
  },
  {
   "cell_type": "code",
   "execution_count": 21,
   "metadata": {},
   "outputs": [],
   "source": [
    "\n",
    "teams = teams.drop(columns=['seeded'], axis=1)\n",
    "teams = teams.drop(columns=['confID'], axis=1)\n",
    "teams = teams.drop(columns=['divID'], axis=1)\n",
    "\n"
   ]
  }
 ],
 "metadata": {
  "kernelspec": {
   "display_name": "Python 3",
   "language": "python",
   "name": "python3"
  },
  "language_info": {
   "codemirror_mode": {
    "name": "ipython",
    "version": 3
   },
   "file_extension": ".py",
   "mimetype": "text/x-python",
   "name": "python",
   "nbconvert_exporter": "python",
   "pygments_lexer": "ipython3",
   "version": "3.11.5"
  }
 },
 "nbformat": 4,
 "nbformat_minor": 2
}
